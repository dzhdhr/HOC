{
 "cells": [
  {
   "cell_type": "code",
   "execution_count": 1,
   "metadata": {
    "collapsed": true
   },
   "outputs": [],
   "source": [
    "import numpy as np\n",
    "from data.cifar_mulmatrix import CIFAR10_multi\n",
    "from data.datasets import input_dataset"
   ]
  },
  {
   "cell_type": "code",
   "execution_count": 2,
   "outputs": [
    {
     "name": "stdout",
     "output_type": "stream",
     "text": [
      "Files already downloaded and verified\n",
      "from 0 to 12500\tshape:(0, 1)\n",
      "[[0.79228954 0.21621622 0.         0.         0.         0.\n",
      "  0.         0.         0.         0.        ]\n",
      " [0.         0.79279279 0.19952681 0.         0.         0.\n",
      "  0.         0.         0.         0.        ]\n",
      " [0.         0.         0.80757098 0.19152276 0.         0.\n",
      "  0.         0.         0.         0.        ]\n",
      " [0.         0.         0.         0.79984301 0.20547945 0.\n",
      "  0.         0.         0.         0.        ]\n",
      " [0.         0.         0.         0.         0.81547139 0.19179229\n",
      "  0.         0.         0.         0.        ]\n",
      " [0.         0.         0.         0.         0.         0.82495812\n",
      "  0.16176471 0.         0.         0.        ]\n",
      " [0.         0.         0.         0.         0.         0.\n",
      "  0.81424149 0.19246191 0.         0.        ]\n",
      " [0.         0.         0.         0.         0.         0.\n",
      "  0.         0.79230152 0.20218579 0.        ]\n",
      " [0.         0.         0.         0.         0.         0.\n",
      "  0.         0.         0.79469165 0.21717589]\n",
      " [0.20692368 0.         0.         0.         0.         0.\n",
      "  0.         0.         0.         0.78282411]]\n",
      "Actual noise 0.20\n",
      "from 12500 to 50000\tshape:(12500, 1)\n",
      "[[0.70152856 0.29452236 0.         0.         0.         0.\n",
      "  0.         0.         0.         0.        ]\n",
      " [0.         0.70865308 0.29501608 0.         0.         0.\n",
      "  0.         0.         0.         0.        ]\n",
      " [0.         0.         0.70873526 0.29173376 0.         0.\n",
      "  0.         0.         0.         0.        ]\n",
      " [0.         0.         0.         0.69833602 0.2990157  0.\n",
      "  0.         0.         0.         0.        ]\n",
      " [0.         0.         0.         0.         0.69114126 0.30504467\n",
      "  0.         0.         0.         0.        ]\n",
      " [0.         0.         0.         0.         0.         0.69653179\n",
      "  0.31148867 0.         0.         0.        ]\n",
      " [0.         0.         0.         0.         0.         0.\n",
      "  0.70145631 0.29496403 0.         0.        ]\n",
      " [0.         0.         0.         0.         0.         0.\n",
      "  0.         0.70663469 0.29604732 0.        ]\n",
      " [0.         0.         0.         0.         0.         0.\n",
      "  0.         0.         0.698306   0.29612035]\n",
      " [0.30168946 0.         0.         0.         0.         0.\n",
      "  0.         0.         0.         0.70308789]]\n",
      "Actual noise 0.30\n",
      "The noisy data ratio in each class is [0.10022 0.10046 0.10046 0.09904 0.09978 0.10052 0.10034 0.09974 0.0995\n",
      " 0.09994]\n",
      "Files already downloaded and verified\n"
     ]
    }
   ],
   "source": [
    "train_dataset, test_dataset, num_classes, num_training_samples, num_testing_samples,T = input_dataset('cifar10_multi',noise_type=\"symmetric\",noise_ratio=[0.2,0.3],distribution=[0.25,0.75])\n"
   ],
   "metadata": {
    "collapsed": false
   }
  },
  {
   "cell_type": "code",
   "execution_count": 3,
   "outputs": [
    {
     "data": {
      "text/plain": "[0.25, 0.75]"
     },
     "execution_count": 3,
     "metadata": {},
     "output_type": "execute_result"
    }
   ],
   "source": [
    "train_dataset.distribution\n"
   ],
   "metadata": {
    "collapsed": false
   }
  },
  {
   "cell_type": "code",
   "execution_count": 4,
   "outputs": [
    {
     "data": {
      "text/plain": "[array([[0.79228954, 0.21621622, 0.        , 0.        , 0.        ,\n         0.        , 0.        , 0.        , 0.        , 0.        ],\n        [0.        , 0.79279279, 0.19952681, 0.        , 0.        ,\n         0.        , 0.        , 0.        , 0.        , 0.        ],\n        [0.        , 0.        , 0.80757098, 0.19152276, 0.        ,\n         0.        , 0.        , 0.        , 0.        , 0.        ],\n        [0.        , 0.        , 0.        , 0.79984301, 0.20547945,\n         0.        , 0.        , 0.        , 0.        , 0.        ],\n        [0.        , 0.        , 0.        , 0.        , 0.81547139,\n         0.19179229, 0.        , 0.        , 0.        , 0.        ],\n        [0.        , 0.        , 0.        , 0.        , 0.        ,\n         0.82495812, 0.16176471, 0.        , 0.        , 0.        ],\n        [0.        , 0.        , 0.        , 0.        , 0.        ,\n         0.        , 0.81424149, 0.19246191, 0.        , 0.        ],\n        [0.        , 0.        , 0.        , 0.        , 0.        ,\n         0.        , 0.        , 0.79230152, 0.20218579, 0.        ],\n        [0.        , 0.        , 0.        , 0.        , 0.        ,\n         0.        , 0.        , 0.        , 0.79469165, 0.21717589],\n        [0.20692368, 0.        , 0.        , 0.        , 0.        ,\n         0.        , 0.        , 0.        , 0.        , 0.78282411]]),\n array([[0.70152856, 0.29452236, 0.        , 0.        , 0.        ,\n         0.        , 0.        , 0.        , 0.        , 0.        ],\n        [0.        , 0.70865308, 0.29501608, 0.        , 0.        ,\n         0.        , 0.        , 0.        , 0.        , 0.        ],\n        [0.        , 0.        , 0.70873526, 0.29173376, 0.        ,\n         0.        , 0.        , 0.        , 0.        , 0.        ],\n        [0.        , 0.        , 0.        , 0.69833602, 0.2990157 ,\n         0.        , 0.        , 0.        , 0.        , 0.        ],\n        [0.        , 0.        , 0.        , 0.        , 0.69114126,\n         0.30504467, 0.        , 0.        , 0.        , 0.        ],\n        [0.        , 0.        , 0.        , 0.        , 0.        ,\n         0.69653179, 0.31148867, 0.        , 0.        , 0.        ],\n        [0.        , 0.        , 0.        , 0.        , 0.        ,\n         0.        , 0.70145631, 0.29496403, 0.        , 0.        ],\n        [0.        , 0.        , 0.        , 0.        , 0.        ,\n         0.        , 0.        , 0.70663469, 0.29604732, 0.        ],\n        [0.        , 0.        , 0.        , 0.        , 0.        ,\n         0.        , 0.        , 0.        , 0.698306  , 0.29612035],\n        [0.30168946, 0.        , 0.        , 0.        , 0.        ,\n         0.        , 0.        , 0.        , 0.        , 0.70308789]])]"
     },
     "execution_count": 4,
     "metadata": {},
     "output_type": "execute_result"
    }
   ],
   "source": [
    "train_dataset.T"
   ],
   "metadata": {
    "collapsed": false
   }
  },
  {
   "cell_type": "code",
   "execution_count": 5,
   "outputs": [
    {
     "data": {
      "text/plain": "[0.19832, 0.29856]"
     },
     "execution_count": 5,
     "metadata": {},
     "output_type": "execute_result"
    }
   ],
   "source": [
    "train_dataset.actual_noise_rate"
   ],
   "metadata": {
    "collapsed": false
   }
  },
  {
   "cell_type": "code",
   "execution_count": 6,
   "outputs": [
    {
     "data": {
      "text/plain": "[0.19832, 0.29856]"
     },
     "execution_count": 6,
     "metadata": {},
     "output_type": "execute_result"
    }
   ],
   "source": [
    "train_dataset.actual_noise_rate"
   ],
   "metadata": {
    "collapsed": false
   }
  },
  {
   "cell_type": "code",
   "execution_count": 6,
   "outputs": [],
   "source": [],
   "metadata": {
    "collapsed": false
   }
  }
 ],
 "metadata": {
  "kernelspec": {
   "display_name": "Python 3",
   "language": "python",
   "name": "python3"
  },
  "language_info": {
   "codemirror_mode": {
    "name": "ipython",
    "version": 2
   },
   "file_extension": ".py",
   "mimetype": "text/x-python",
   "name": "python",
   "nbconvert_exporter": "python",
   "pygments_lexer": "ipython2",
   "version": "2.7.6"
  }
 },
 "nbformat": 4,
 "nbformat_minor": 0
}
