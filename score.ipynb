{
 "cells": [
  {
   "cell_type": "code",
   "execution_count": 7,
   "metadata": {
    "collapsed": true,
    "pycharm": {
     "name": "#%%\n"
    }
   },
   "outputs": [],
   "source": [
    "import os\n",
    "\n",
    "import numpy as np\n",
    "from data.datasets import input_dataset"
   ]
  },
  {
   "cell_type": "code",
   "execution_count": 8,
   "outputs": [
    {
     "data": {
      "text/plain": "array([[0.8046, 0.1954, 0.    , 0.    , 0.    , 0.    , 0.    , 0.    ,\n        0.    , 0.    ],\n       [0.    , 0.8068, 0.1932, 0.    , 0.    , 0.    , 0.    , 0.    ,\n        0.    , 0.    ],\n       [0.    , 0.    , 0.8014, 0.1986, 0.    , 0.    , 0.    , 0.    ,\n        0.    , 0.    ],\n       [0.    , 0.    , 0.    , 0.8008, 0.1992, 0.    , 0.    , 0.    ,\n        0.    , 0.    ],\n       [0.    , 0.    , 0.    , 0.    , 0.7974, 0.2026, 0.    , 0.    ,\n        0.    , 0.    ],\n       [0.    , 0.    , 0.    , 0.    , 0.    , 0.812 , 0.188 , 0.    ,\n        0.    , 0.    ],\n       [0.    , 0.    , 0.    , 0.    , 0.    , 0.    , 0.7996, 0.2004,\n        0.    , 0.    ],\n       [0.    , 0.    , 0.    , 0.    , 0.    , 0.    , 0.    , 0.7968,\n        0.2032, 0.    ],\n       [0.    , 0.    , 0.    , 0.    , 0.    , 0.    , 0.    , 0.    ,\n        0.797 , 0.203 ],\n       [0.213 , 0.    , 0.    , 0.    , 0.    , 0.    , 0.    , 0.    ,\n        0.    , 0.787 ]])"
     },
     "execution_count": 8,
     "metadata": {},
     "output_type": "execute_result"
    }
   ],
   "source": [
    "true_file = open(\"./high_order/r/pairflip/TrueT.csv\")\n",
    "T =  data = np.loadtxt(true_file,delimiter = \",\")\n",
    "T"
   ],
   "metadata": {
    "collapsed": false,
    "pycharm": {
     "name": "#%%\n"
    }
   }
  },
  {
   "cell_type": "code",
   "execution_count": 9,
   "outputs": [],
   "source": [
    "dir = {}\n",
    "for file in os.listdir(\"./high_order/r/pairflip\"):\n",
    "   with open(os.path.join(\"./high_order/r/pairflip\", file), 'r') as f:\n",
    "        data = np.loadtxt(f,delimiter = \",\")\n",
    "        error = np.sum(np.abs(T-data))/10/2\n",
    "        dir[os.path.join(\"./high_order/r\", file).replace(',',\"/\")]=error"
   ],
   "metadata": {
    "collapsed": false,
    "pycharm": {
     "name": "#%%\n"
    }
   }
  },
  {
   "cell_type": "code",
   "execution_count": 10,
   "outputs": [],
   "source": [
    "# for file in os.listdir(\"./high_order/r\"):\n",
    "#    with open(os.path.join(\"./high_order/r\", file), 'r') as f:\n",
    "#         data = np.loadtxt(f,delimiter = \",\")\n",
    "#         error = np.sum(np.abs(T-data))/10/2\n",
    "#         dir[os.path.join(\"./high_order/r\", file).replace(',',\"|\")]=error"
   ],
   "metadata": {
    "collapsed": false,
    "pycharm": {
     "name": "#%%\n"
    }
   }
  },
  {
   "cell_type": "code",
   "execution_count": 11,
   "outputs": [
    {
     "data": {
      "text/plain": "{'./high_order/r/[0.0/ 0.0/ 0.0/ 1.0].csv': 0.005752197488324021,\n './high_order/r/[1.0/ 1.0/ 1.0/ 5.0].csv': 0.006417798465051744,\n './high_order/r/[1/ 0/ 0.0/ 10.0/ 1].csv': 0.005569039530110309,\n './high_order/r/[1.0/ 0.0/ 1.0/ 1.0].csv': 0.006550602898535143,\n './high_order/r/[1.0/ 0.0/ 1.0/ 5.0].csv': 0.005852543485760392,\n './high_order/r/[1.0/ 1.0/ 1.0/ 1.0].csv': 0.006096935924984281,\n './high_order/r/[1.0/ 0.0/ 0.0/ 10.0].csv': 0.006810086066159423,\n './high_order/r/[1.0/ 1.0/ 1.0/ 10.0].csv': 0.005877570359075901,\n './high_order/r/TrueT.csv': 0.0,\n './high_order/r/[0.0/ 1.0/ 1.0/ 5.0].csv': 0.005605188189073523,\n './high_order/r/[1.0/ 1.0/ 0.0/ 10.0].csv': 0.006597557724739888,\n './high_order/r/[1.0/ 0.0/ 1.0/ 10.0].csv': 0.005848642669591936,\n './high_order/r/[1.0/ 1.0/ 0.0/ 5.0].csv': 0.006143305581036545,\n './high_order/r/[1.0/ 1.0/ 0.0/ 1.0].csv': 0.0064738793941433006,\n './high_order/r/[0.0/ 1.0/ 1.0/ 1.0].csv': 0.006266255703491627,\n './high_order/r/[0.0/ 1.0/ 1.0/ 10.0].csv': 0.00578560769235133,\n './high_order/r/[1.0/ 1.0/ 1.0/ 0.0].csv': 0.0057225015204510395}"
     },
     "execution_count": 11,
     "metadata": {},
     "output_type": "execute_result"
    }
   ],
   "source": [
    "dir"
   ],
   "metadata": {
    "collapsed": false,
    "pycharm": {
     "name": "#%%\n"
    }
   }
  },
  {
   "cell_type": "code",
   "execution_count": 12,
   "outputs": [],
   "source": [
    "with open('./r_pairflip.csv', 'w') as csvfile:\n",
    "    for key in dir.keys():\n",
    "        csvfile.write(\"%s, %s\\n\" % (key, dir[key]))\n",
    "csvfile.close()"
   ],
   "metadata": {
    "collapsed": false,
    "pycharm": {
     "name": "#%%\n"
    }
   }
  },
  {
   "cell_type": "code",
   "execution_count": 12,
   "outputs": [],
   "source": [],
   "metadata": {
    "collapsed": false,
    "pycharm": {
     "name": "#%%\n"
    }
   }
  }
 ],
 "metadata": {
  "kernelspec": {
   "display_name": "Python 3",
   "language": "python",
   "name": "python3"
  },
  "language_info": {
   "codemirror_mode": {
    "name": "ipython",
    "version": 2
   },
   "file_extension": ".py",
   "mimetype": "text/x-python",
   "name": "python",
   "nbconvert_exporter": "python",
   "pygments_lexer": "ipython2",
   "version": "2.7.6"
  }
 },
 "nbformat": 4,
 "nbformat_minor": 0
}